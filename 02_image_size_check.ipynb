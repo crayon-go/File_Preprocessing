{
 "cells": [
  {
   "cell_type": "markdown",
   "id": "6dda1f43",
   "metadata": {},
   "source": [
    "### 폴더 내 이미지 파일 크기 확인"
   ]
  },
  {
   "cell_type": "code",
   "execution_count": 4,
   "id": "111078c5",
   "metadata": {},
   "outputs": [],
   "source": [
    "import os\n",
    "import random\n",
    "import shutil\n",
    "from tqdm.notebook import tqdm\n",
    "import glob\n",
    "import cv2\n",
    "from PIL import Image\n",
    "import numpy as np"
   ]
  },
  {
   "cell_type": "code",
   "execution_count": 12,
   "id": "7c584aa0",
   "metadata": {
    "scrolled": false
   },
   "outputs": [
    {
     "data": {
      "application/vnd.jupyter.widget-view+json": {
       "model_id": "ab8353cfe7504cccbd5c717b10a3e099",
       "version_major": 2,
       "version_minor": 0
      },
      "text/plain": [
       "  0%|          | 0/15 [00:00<?, ?it/s]"
      ]
     },
     "metadata": {},
     "output_type": "display_data"
    },
    {
     "name": "stdout",
     "output_type": "stream",
     "text": [
      "\n",
      ">> Category : 과자\n"
     ]
    },
    {
     "data": {
      "application/vnd.jupyter.widget-view+json": {
       "model_id": "384c9cfb5462404694dc2b40b0d8dd30",
       "version_major": 2,
       "version_minor": 0
      },
      "text/plain": [
       "  0%|          | 0/1641 [00:00<?, ?it/s]"
      ]
     },
     "metadata": {},
     "output_type": "display_data"
    },
    {
     "ename": "KeyboardInterrupt",
     "evalue": "",
     "output_type": "error",
     "traceback": [
      "\u001b[1;31m---------------------------------------------------------------------------\u001b[0m",
      "\u001b[1;31mKeyboardInterrupt\u001b[0m                         Traceback (most recent call last)",
      "Input \u001b[1;32mIn [12]\u001b[0m, in \u001b[0;36m<cell line: 7>\u001b[1;34m()\u001b[0m\n\u001b[0;32m     22\u001b[0m \u001b[38;5;66;03m# 한글 경로명 인코딩\u001b[39;00m\n\u001b[0;32m     23\u001b[0m img_array \u001b[38;5;241m=\u001b[39m np\u001b[38;5;241m.\u001b[39mfromfile(file_path, np\u001b[38;5;241m.\u001b[39muint8)\n\u001b[1;32m---> 24\u001b[0m image \u001b[38;5;241m=\u001b[39m \u001b[43mcv2\u001b[49m\u001b[38;5;241;43m.\u001b[39;49m\u001b[43mimdecode\u001b[49m\u001b[43m(\u001b[49m\u001b[43mimg_array\u001b[49m\u001b[43m,\u001b[49m\u001b[43m \u001b[49m\u001b[43mcv2\u001b[49m\u001b[38;5;241;43m.\u001b[39;49m\u001b[43mIMREAD_COLOR\u001b[49m\u001b[43m)\u001b[49m\n\u001b[0;32m     26\u001b[0m height, width, channel \u001b[38;5;241m=\u001b[39m image\u001b[38;5;241m.\u001b[39mshape\n\u001b[0;32m     27\u001b[0m size_list\u001b[38;5;241m.\u001b[39mappend((\u001b[38;5;28mstr\u001b[39m(height) \u001b[38;5;241m+\u001b[39m \u001b[38;5;124m\"\u001b[39m\u001b[38;5;124m_\u001b[39m\u001b[38;5;124m\"\u001b[39m \u001b[38;5;241m+\u001b[39m \u001b[38;5;28mstr\u001b[39m(width)))\n",
      "\u001b[1;31mKeyboardInterrupt\u001b[0m: "
     ]
    }
   ],
   "source": [
    "# 상품 루트 폴더\n",
    "root_folder = \"F:\\\\상품 이미지\"\n",
    "cate_folders = os.listdir(root_folder)\n",
    "\n",
    "size_list = []\n",
    "\n",
    "for cate_folder in tqdm(cate_folders):\n",
    "\n",
    "    print(\"\\n>> Category : \" + cate_folder)\n",
    "\n",
    "    # 카테고리 기준 확인\n",
    "    item_folders = os.listdir(root_folder + \"\\\\\" + cate_folder)\n",
    "\n",
    "    for item_folder in tqdm(item_folders):\n",
    "        folder_path = os.path.join(root_folder, cate_folder,item_folder)\n",
    "        files = os.listdir(folder_path)\n",
    "\n",
    "        # 하위 폴더 이미지 크기 확인\n",
    "        for f in files:\n",
    "            file_path = os.path.join(root_folder, cate_folder,item_folder, f)\n",
    "\n",
    "            # 한글 경로명 인코딩\n",
    "            img_array = np.fromfile(file_path, np.uint8)\n",
    "            image = cv2.imdecode(img_array, cv2.IMREAD_COLOR)\n",
    "\n",
    "            height, width, channel = image.shape\n",
    "            size_list.append((str(height) + \"_\" + str(width)))\n",
    "\n",
    "size_list = list(set(size_list))\n",
    "\n",
    "print(\"\\n>> DONE <<\")"
   ]
  },
  {
   "cell_type": "code",
   "execution_count": 13,
   "id": "2578e7cc",
   "metadata": {},
   "outputs": [],
   "source": [
    "size_list = list(set(size_list))"
   ]
  },
  {
   "cell_type": "code",
   "execution_count": 14,
   "id": "521146f7",
   "metadata": {},
   "outputs": [
    {
     "name": "stdout",
     "output_type": "stream",
     "text": [
      "15\n",
      "2736_2736\n",
      "2658_2658\n",
      "2865_2865\n",
      "2438_2438\n",
      "2253_2253\n",
      "2688_2688\n",
      "2228_2228\n",
      "2988_2988\n",
      "2935_2935\n",
      "2817_2817\n",
      "2517_2517\n",
      "2324_2324\n",
      "2925_2922\n",
      "2093_2093\n",
      "1774_1774\n"
     ]
    }
   ],
   "source": [
    "print(len(size_list))\n",
    "\n",
    "for i in size_list:\n",
    "    print(i)"
   ]
  },
  {
   "cell_type": "code",
   "execution_count": null,
   "id": "b69e852c",
   "metadata": {},
   "outputs": [],
   "source": []
  }
 ],
 "metadata": {
  "kernelspec": {
   "display_name": "hackerrank",
   "language": "python",
   "name": "hackerrank"
  },
  "language_info": {
   "codemirror_mode": {
    "name": "ipython",
    "version": 3
   },
   "file_extension": ".py",
   "mimetype": "text/x-python",
   "name": "python",
   "nbconvert_exporter": "python",
   "pygments_lexer": "ipython3",
   "version": "3.9.12"
  }
 },
 "nbformat": 4,
 "nbformat_minor": 5
}
