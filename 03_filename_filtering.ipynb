{
 "cells": [
  {
   "cell_type": "markdown",
   "id": "6dda1f43",
   "metadata": {},
   "source": [
    "### 파일명 규칙 확인, 삭제"
   ]
  },
  {
   "cell_type": "code",
   "execution_count": 1,
   "id": "111078c5",
   "metadata": {},
   "outputs": [],
   "source": [
    "import os\n",
    "import random\n",
    "import shutil\n",
    "from tqdm.notebook import tqdm\n",
    "import glob\n",
    "import cv2\n",
    "from PIL import Image\n",
    "import numpy as np"
   ]
  },
  {
   "cell_type": "code",
   "execution_count": null,
   "id": "52a12a38",
   "metadata": {},
   "outputs": [],
   "source": [
    "# 20002_00_m_01.jpg\n",
    "# 20002  ==>  상품코드\n",
    "# 00     ==>  Pitch(0도, 30도, 60도)\n",
    "# m      ==>  단일상품(single), 다중상품(multi) 구분\n",
    "# 01     ==>  Roll(15도 각도 * 24)"
   ]
  },
  {
   "cell_type": "code",
   "execution_count": 3,
   "id": "7c584aa0",
   "metadata": {
    "scrolled": false
   },
   "outputs": [
    {
     "data": {
      "application/vnd.jupyter.widget-view+json": {
       "model_id": "a9b0a58a967a489394683cb5e92c1f92",
       "version_major": 2,
       "version_minor": 0
      },
      "text/plain": [
       "  0%|          | 0/15 [00:00<?, ?it/s]"
      ]
     },
     "metadata": {},
     "output_type": "display_data"
    },
    {
     "name": "stdout",
     "output_type": "stream",
     "text": [
      "\n",
      ">> Category : 과자\n"
     ]
    },
    {
     "data": {
      "application/vnd.jupyter.widget-view+json": {
       "model_id": "c912b4c587b84f50ab1f1b19b7ab174f",
       "version_major": 2,
       "version_minor": 0
      },
      "text/plain": [
       "  0%|          | 0/1641 [00:00<?, ?it/s]"
      ]
     },
     "metadata": {},
     "output_type": "display_data"
    },
    {
     "name": "stdout",
     "output_type": "stream",
     "text": [
      "\n",
      ">> Category : 디저트\n"
     ]
    },
    {
     "data": {
      "application/vnd.jupyter.widget-view+json": {
       "model_id": "480f0834027441a68fcdef79d724222e",
       "version_major": 2,
       "version_minor": 0
      },
      "text/plain": [
       "  0%|          | 0/76 [00:00<?, ?it/s]"
      ]
     },
     "metadata": {},
     "output_type": "display_data"
    },
    {
     "name": "stdout",
     "output_type": "stream",
     "text": [
      "\n",
      ">> Category : 면류\n"
     ]
    },
    {
     "data": {
      "application/vnd.jupyter.widget-view+json": {
       "model_id": "443df0bf1a4c48bfb0e3c1a78e3db250",
       "version_major": 2,
       "version_minor": 0
      },
      "text/plain": [
       "  0%|          | 0/205 [00:00<?, ?it/s]"
      ]
     },
     "metadata": {},
     "output_type": "display_data"
    },
    {
     "name": "stdout",
     "output_type": "stream",
     "text": [
      "\n",
      ">> Category : 미분류\n"
     ]
    },
    {
     "data": {
      "application/vnd.jupyter.widget-view+json": {
       "model_id": "e03b4a9a34464f4692a7fbd02a8c3283",
       "version_major": 2,
       "version_minor": 0
      },
      "text/plain": [
       "  0%|          | 0/14 [00:00<?, ?it/s]"
      ]
     },
     "metadata": {},
     "output_type": "display_data"
    },
    {
     "name": "stdout",
     "output_type": "stream",
     "text": [
      "\n",
      ">> Category : 상온HMR\n"
     ]
    },
    {
     "data": {
      "application/vnd.jupyter.widget-view+json": {
       "model_id": "4287fa742ff542b18adfc4fe2d857cfb",
       "version_major": 2,
       "version_minor": 0
      },
      "text/plain": [
       "  0%|          | 0/896 [00:00<?, ?it/s]"
      ]
     },
     "metadata": {},
     "output_type": "display_data"
    },
    {
     "name": "stdout",
     "output_type": "stream",
     "text": [
      "\n",
      ">> Category : 생활용품\n"
     ]
    },
    {
     "data": {
      "application/vnd.jupyter.widget-view+json": {
       "model_id": "5610ca8d0c574a46a5d3c6592b64149d",
       "version_major": 2,
       "version_minor": 0
      },
      "text/plain": [
       "  0%|          | 0/1034 [00:00<?, ?it/s]"
      ]
     },
     "metadata": {},
     "output_type": "display_data"
    },
    {
     "name": "stdout",
     "output_type": "stream",
     "text": [
      "\n",
      ">> Category : 소스\n"
     ]
    },
    {
     "data": {
      "application/vnd.jupyter.widget-view+json": {
       "model_id": "cfbf5ba8c0774d9db215ff1fa1fd8b20",
       "version_major": 2,
       "version_minor": 0
      },
      "text/plain": [
       "  0%|          | 0/791 [00:00<?, ?it/s]"
      ]
     },
     "metadata": {},
     "output_type": "display_data"
    },
    {
     "name": "stdout",
     "output_type": "stream",
     "text": [
      "\n",
      ">> Category : 유제품\n"
     ]
    },
    {
     "data": {
      "application/vnd.jupyter.widget-view+json": {
       "model_id": "6f1bffd1154f41bd9c01678d454557cb",
       "version_major": 2,
       "version_minor": 0
      },
      "text/plain": [
       "  0%|          | 0/289 [00:00<?, ?it/s]"
      ]
     },
     "metadata": {},
     "output_type": "display_data"
    },
    {
     "name": "stdout",
     "output_type": "stream",
     "text": [
      "\n",
      ">> Category : 음료\n"
     ]
    },
    {
     "data": {
      "application/vnd.jupyter.widget-view+json": {
       "model_id": "544718f4cc3649809b386a33e5310e28",
       "version_major": 2,
       "version_minor": 0
      },
      "text/plain": [
       "  0%|          | 0/1051 [00:00<?, ?it/s]"
      ]
     },
     "metadata": {},
     "output_type": "display_data"
    },
    {
     "name": "stdout",
     "output_type": "stream",
     "text": [
      "\n",
      ">> Category : 의약외품\n"
     ]
    },
    {
     "data": {
      "application/vnd.jupyter.widget-view+json": {
       "model_id": "7856ef7bbd16484285ba6ac427c32f36",
       "version_major": 2,
       "version_minor": 0
      },
      "text/plain": [
       "  0%|          | 0/216 [00:00<?, ?it/s]"
      ]
     },
     "metadata": {},
     "output_type": "display_data"
    },
    {
     "name": "stdout",
     "output_type": "stream",
     "text": [
      "\n",
      ">> Category : 이_미용\n"
     ]
    },
    {
     "data": {
      "application/vnd.jupyter.widget-view+json": {
       "model_id": "0cc722a7e2de459ebaa90d57fa594ecf",
       "version_major": 2,
       "version_minor": 0
      },
      "text/plain": [
       "  0%|          | 0/1972 [00:00<?, ?it/s]"
      ]
     },
     "metadata": {},
     "output_type": "display_data"
    },
    {
     "name": "stdout",
     "output_type": "stream",
     "text": [
      "\n",
      ">> Category : 주류\n"
     ]
    },
    {
     "data": {
      "application/vnd.jupyter.widget-view+json": {
       "model_id": "f2d62a95cedd492e8792e4e26338423c",
       "version_major": 2,
       "version_minor": 0
      },
      "text/plain": [
       "  0%|          | 0/490 [00:00<?, ?it/s]"
      ]
     },
     "metadata": {},
     "output_type": "display_data"
    },
    {
     "name": "stdout",
     "output_type": "stream",
     "text": [
      "\n",
      ">> Category : 커피차\n"
     ]
    },
    {
     "data": {
      "application/vnd.jupyter.widget-view+json": {
       "model_id": "e62ee4a1786e405a95f4617b31ca8950",
       "version_major": 2,
       "version_minor": 0
      },
      "text/plain": [
       "  0%|          | 0/496 [00:00<?, ?it/s]"
      ]
     },
     "metadata": {},
     "output_type": "display_data"
    },
    {
     "name": "stdout",
     "output_type": "stream",
     "text": [
      "\n",
      ">> Category : 통조림_안주\n"
     ]
    },
    {
     "data": {
      "application/vnd.jupyter.widget-view+json": {
       "model_id": "ab4e2950eb204d04b72457531897a900",
       "version_major": 2,
       "version_minor": 0
      },
      "text/plain": [
       "  0%|          | 0/319 [00:00<?, ?it/s]"
      ]
     },
     "metadata": {},
     "output_type": "display_data"
    },
    {
     "name": "stdout",
     "output_type": "stream",
     "text": [
      "\n",
      ">> Category : 홈클린\n"
     ]
    },
    {
     "data": {
      "application/vnd.jupyter.widget-view+json": {
       "model_id": "722c0392af034ef884735b7c8012ce37",
       "version_major": 2,
       "version_minor": 0
      },
      "text/plain": [
       "  0%|          | 0/384 [00:00<?, ?it/s]"
      ]
     },
     "metadata": {},
     "output_type": "display_data"
    },
    {
     "name": "stdout",
     "output_type": "stream",
     "text": [
      "\n",
      ">> DONE <<\n"
     ]
    }
   ],
   "source": [
    "# 상품 루트 폴더\n",
    "root_folder = \"F:\\\\상품 이미지\"\n",
    "cate_folders = os.listdir(root_folder)\n",
    "\n",
    "size_list = []\n",
    "roll_list = [1, 2, 3, 4, 22, 23, 24]\n",
    "\n",
    "for cate_folder in tqdm(cate_folders):\n",
    "\n",
    "    print(\"\\n>> Category : \" + cate_folder)\n",
    "\n",
    "    # 카테고리 기준 확인\n",
    "    item_folders = os.listdir(root_folder + \"\\\\\" + cate_folder)\n",
    "\n",
    "    for item_folder in tqdm(item_folders):\n",
    "        folder_path = os.path.join(root_folder, cate_folder,item_folder)\n",
    "        files = os.listdir(folder_path)\n",
    "\n",
    "        # 하위 폴더 이미지 크기 확인\n",
    "        for f in files:\n",
    "            file_path = os.path.join(root_folder, cate_folder,item_folder, f)\n",
    "            title, ext = os.path.splitext(f)\n",
    "            \n",
    "            # 조건 1.\n",
    "            # 상품의 갯수(싱글, 멀티)  ==>  멀티 제거\n",
    "            try:\n",
    "                if title.split(\"_\")[2] == \"m\":\n",
    "                    os.remove(file_path)\n",
    "            except:\n",
    "                # 조건 2. 파일명 불량 제거  ==> 10.jpg ...\n",
    "                print(file_path)\n",
    "                os.remove(file_path)\n",
    "\n",
    "            # 조건 2.\n",
    "            # 상품의 Pitch(0도, 30도, 60도)  ==>  60도 제거\n",
    "            if title.split(\"_\")[1] == \"60\":\n",
    "                os.remove(file_path)\n",
    "                \n",
    "            # 조건 4.\n",
    "            # 샹품의 Roll (15도 각도 * 24)\n",
    "            try:\n",
    "                if not int(title.split(\"_\")[3]) in roll_list:\n",
    "                    os.remove(file_path)\n",
    "                    #print(file_path)\n",
    "            except:\n",
    "                # 조건 3. \n",
    "                # 파일명 불량  ==>  642_30_s12.jpg\n",
    "                os.remove(file_path)\n",
    "\n",
    "print(\"\\n>> DONE <<\")"
   ]
  },
  {
   "cell_type": "code",
   "execution_count": null,
   "id": "b69e852c",
   "metadata": {},
   "outputs": [],
   "source": []
  },
  {
   "cell_type": "code",
   "execution_count": null,
   "id": "3d23684a",
   "metadata": {},
   "outputs": [],
   "source": []
  },
  {
   "cell_type": "code",
   "execution_count": null,
   "id": "e22bf269",
   "metadata": {},
   "outputs": [],
   "source": []
  },
  {
   "cell_type": "code",
   "execution_count": null,
   "id": "0a07046a",
   "metadata": {},
   "outputs": [],
   "source": []
  }
 ],
 "metadata": {
  "kernelspec": {
   "display_name": "hackerrank",
   "language": "python",
   "name": "hackerrank"
  },
  "language_info": {
   "codemirror_mode": {
    "name": "ipython",
    "version": 3
   },
   "file_extension": ".py",
   "mimetype": "text/x-python",
   "name": "python",
   "nbconvert_exporter": "python",
   "pygments_lexer": "ipython3",
   "version": "3.9.12"
  }
 },
 "nbformat": 4,
 "nbformat_minor": 5
}
